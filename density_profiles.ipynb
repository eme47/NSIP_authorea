{
 "metadata": {
  "name": "",
  "signature": "sha256:36a61016ba0c3851ca6ffa3742a216941e7043ff2be340e65dd7482c0f6ba050"
 },
 "nbformat": 3,
 "nbformat_minor": 0,
 "worksheets": [
  {
   "cells": [
    {
     "cell_type": "code",
     "collapsed": false,
     "input": [
      "from IPython.display import FileLink, HTML\n",
      "from Bio.Blast.Applications import NcbiblastnCommandline"
     ],
     "language": "python",
     "metadata": {},
     "outputs": [],
     "prompt_number": 17
    },
    {
     "cell_type": "code",
     "collapsed": false,
     "input": [
      "%load_ext rmagic"
     ],
     "language": "python",
     "metadata": {},
     "outputs": [
      {
       "output_type": "stream",
       "stream": "stderr",
       "text": [
        "/opt/anaconda/lib/python2.7/site-packages/pytz/__init__.py:29: UserWarning: Module argparse was already imported from /opt/anaconda/lib/python2.7/argparse.pyc, but /opt/anaconda/lib/python2.7/site-packages is being added to sys.path\n",
        "  from pkg_resources import resource_stream\n"
       ]
      }
     ],
     "prompt_number": 2
    },
    {
     "cell_type": "code",
     "collapsed": false,
     "input": [
      "%%R\n",
      "library(phyloseq)\n",
      "library(ggplot2)\n",
      "library(plyr)\n",
      "library(stats)\n",
      "library(xtable)"
     ],
     "language": "python",
     "metadata": {},
     "outputs": [],
     "prompt_number": 12
    },
    {
     "cell_type": "code",
     "collapsed": false,
     "input": [
      "%%R\n",
      "physeq = import_biom(\"../data/otu_table_wtax.biom\", \"../data/otusn.tree\")\n",
      "sample.data = import_qiime_sample_data(\"../data/barcode_mapper.txt\")\n",
      "physeq = merge_phyloseq(physeq,sample.data)\n",
      "physeq.snorm = transform_sample_counts(physeq, function(x) x / sum(x))"
     ],
     "language": "python",
     "metadata": {},
     "outputs": [],
     "prompt_number": 4
    },
    {
     "cell_type": "code",
     "collapsed": false,
     "input": [
      "%%R\n",
      "df.l2fc = read.table(\"../data/l2fc_table.csv\", sep = \",\", header = TRUE, stringsAsFactors = FALSE)\n",
      "df.l2fc.summary = ddply(df.l2fc, .(OTU), summarize, max_l2fc = max(log2FoldChange), min_padj = min(p.adj))\n",
      "head(df.l2fc.summary)"
     ],
     "language": "python",
     "metadata": {},
     "outputs": [
      {
       "metadata": {},
       "output_type": "display_data",
       "text": [
        "       OTU    max_l2fc min_padj\n",
        "1    OTU.1  0.18192404        1\n",
        "2   OTU.10 -0.20252491        1\n",
        "3  OTU.100  0.24490328        1\n",
        "4 OTU.1008  0.15934433        1\n",
        "5 OTU.1009  0.06696184        1\n",
        "6  OTU.101 -0.21878102        1\n"
       ]
      }
     ],
     "prompt_number": 5
    },
    {
     "cell_type": "code",
     "collapsed": false,
     "input": [
      "%%R\n",
      "mdf = psmelt(physeq.snorm)\n",
      "rspndr = subset(df.l2fc.summary, min_padj <= 0.10)$OTU\n",
      "mdf.rspndr = subset(mdf, OTU %in% rspndr)\n",
      "head(mdf.rspndr, 1)"
     ],
     "language": "python",
     "metadata": {},
     "outputs": [
      {
       "metadata": {},
       "output_type": "display_data",
       "text": [
        "         OTU Sample Abundance X.SampleID BarcodeSequence   LinkerPrimerSequence\n",
        "195985 OTU.7   G2F7 0.1808824       G2F7      TCAGACGTCT CAGGACTACHVGGGTWTCTAAT\n",
        "        Density DayCollected Treatment Description    Rank1            Rank2\n",
        "195985 1.765991            2     label   gradient2 Bacteria __Proteobacteria\n",
        "                       Rank3               Rank4                Rank5\n",
        "195985 __Gammaproteobacteria __Enterobacteriales __Enterobacteriaceae\n",
        "                        Rank6                  Rank7 Rank8\n",
        "195985 __Escherichia-Shigella __uncultured_bacterium  <NA>\n"
       ]
      }
     ],
     "prompt_number": 6
    },
    {
     "cell_type": "code",
     "collapsed": false,
     "input": [
      "%%R\n",
      "N = 10\n",
      "topN = df.l2fc.summary$OTU[rank(-df.l2fc.summary$max_l2fc) <= N]\n",
      "topN"
     ],
     "language": "python",
     "metadata": {},
     "outputs": [
      {
       "metadata": {},
       "output_type": "display_data",
       "text": [
        " [1] \"OTU.130\"  \"OTU.135\"  \"OTU.140\"  \"OTU.19\"   \"OTU.1977\" \"OTU.2391\"\n",
        " [7] \"OTU.264\"  \"OTU.45\"   \"OTU.7\"    \"OTU.812\" \n"
       ]
      }
     ],
     "prompt_number": 33
    },
    {
     "cell_type": "markdown",
     "metadata": {},
     "source": [
      "##Control versus label gradient fraction relative abundances in \"heavy\" fractions. Only showing data for OTUs that appear to have incorporated 15N into their DNA."
     ]
    },
    {
     "cell_type": "code",
     "collapsed": false,
     "input": [
      "%%R -h 575 -w 350\n",
      "\n",
      "d = (subset(mdf.rspndr, (Density > 1.725)&(OTU %in%topN)))\n",
      "\n",
      "p = ggplot(d, aes(x = Density, y = Abundance, fill = Treatment))\n",
      "\n",
      "p = p + facet_grid(OTU~DayCollected, scales = \"free_y\")\n",
      "\n",
      "p = p + geom_area(position = \"dodge\", alpha = 0.50)\n",
      "\n",
      "p = p + theme_bw()\n",
      "\n",
      "p = p + theme(axis.text.y =  element_text(size = 8), \n",
      "              strip.text.y = element_text(size = 9))\n",
      "\n",
      "p = p + labs(y = \"Relative Abundance\", x = \"Density, g/mL\")\n",
      "\n",
      "p"
     ],
     "language": "python",
     "metadata": {},
     "outputs": [
      {
       "metadata": {},
       "output_type": "display_data",
       "png": "[encoded data removed]"
      }
     ],
     "prompt_number": 43
    },
    {
     "cell_type": "code",
     "collapsed": false,
     "input": [
      "%%R\n",
      "ggsave(\"../figs/density_profiles_topN.pdf\", p, h = 8, w = 4.5)"
     ],
     "language": "python",
     "metadata": {},
     "outputs": [],
     "prompt_number": 86
    },
    {
     "cell_type": "code",
     "collapsed": false,
     "input": [
      "FileLink(\"../figs/density_profiles_topN.pdf\")"
     ],
     "language": "python",
     "metadata": {},
     "outputs": [
      {
       "html": [
        "<a href='../figs/density_profiles_topN.pdf' target='_blank'>../figs/density_profiles_topN.pdf</a><br>"
       ],
       "metadata": {},
       "output_type": "pyout",
       "prompt_number": 85,
       "text": [
        "/home/chuck/working/soil_crust_N_DNASIP/figs/density_profiles_topN.pdf"
       ]
      }
     ],
     "prompt_number": 85
    },
    {
     "cell_type": "code",
     "collapsed": false,
     "input": [
      "%%R\n",
      "d = ddply(mdf.rspndr, .(OTU), \n",
      "          summarize, \n",
      "          Rank2 = Rank2[1], \n",
      "          Rank3 = Rank3[1], \n",
      "          Rank4 = Rank4[1],\n",
      "          Rank6 = Rank6[1])\n",
      "t = xtable((subset(d, OTU %in% topN)))\n",
      "s = capture.output(print.xtable(t, type = \"html\"))"
     ],
     "language": "python",
     "metadata": {},
     "outputs": [],
     "prompt_number": 35
    },
    {
     "cell_type": "code",
     "collapsed": false,
     "input": [
      "%Rpull s\n",
      "HTML(\"\".join(s))"
     ],
     "language": "python",
     "metadata": {},
     "outputs": [
      {
       "html": [
        "<!-- html table generated in R 3.1.0 by xtable 1.7-3 package --><!-- Fri May 30 12:09:08 2014 --><TABLE border=1><TR> <TH>  </TH> <TH> OTU </TH> <TH> Rank2 </TH> <TH> Rank3 </TH> <TH> Rank4 </TH> <TH> Rank6 </TH>  </TR>  <TR> <TD align=\"right\"> 4 </TD> <TD> OTU.130 </TD> <TD> __Firmicutes </TD> <TD> __Clostridia </TD> <TD> __Clostridiales </TD> <TD> __Clostridium </TD> </TR>  <TR> <TD align=\"right\"> 5 </TD> <TD> OTU.135 </TD> <TD> __Firmicutes </TD> <TD> __Clostridia </TD> <TD> __Clostridiales </TD> <TD> __Clostridium </TD> </TR>  <TR> <TD align=\"right\"> 6 </TD> <TD> OTU.140 </TD> <TD> __Proteobacteria </TD> <TD> __Gammaproteobacteria </TD> <TD> __Pseudomonadales </TD> <TD>  </TD> </TR>  <TR> <TD align=\"right\"> 11 </TD> <TD> OTU.19 </TD> <TD> __Proteobacteria </TD> <TD> __Gammaproteobacteria </TD> <TD> __Enterobacteriales </TD> <TD> __Escherichia-Shigella </TD> </TR>  <TR> <TD align=\"right\"> 12 </TD> <TD> OTU.1977 </TD> <TD> __Firmicutes </TD> <TD> __Clostridia </TD> <TD> __Clostridiales </TD> <TD> __Clostridium </TD> </TR>  <TR> <TD align=\"right\"> 15 </TD> <TD> OTU.2391 </TD> <TD> __Firmicutes </TD> <TD> __Clostridia </TD> <TD> __Clostridiales </TD> <TD> __uncultured </TD> </TR>  <TR> <TD align=\"right\"> 19 </TD> <TD> OTU.264 </TD> <TD> __Proteobacteria </TD> <TD> __Betaproteobacteria </TD> <TD> __Burkholderiales </TD> <TD> __uncultured </TD> </TR>  <TR> <TD align=\"right\"> 22 </TD> <TD> OTU.45 </TD> <TD> __Firmicutes </TD> <TD> __Clostridia </TD> <TD> __Clostridiales </TD> <TD> __uncultured </TD> </TR>  <TR> <TD align=\"right\"> 27 </TD> <TD> OTU.7 </TD> <TD> __Proteobacteria </TD> <TD> __Gammaproteobacteria </TD> <TD> __Enterobacteriales </TD> <TD> __Escherichia-Shigella </TD> </TR>  <TR> <TD align=\"right\"> 30 </TD> <TD> OTU.812 </TD> <TD> __Firmicutes </TD> <TD> __Clostridia </TD> <TD> __Clostridiales </TD> <TD> __Clostridium </TD> </TR>   </TABLE>"
       ],
       "metadata": {},
       "output_type": "pyout",
       "prompt_number": 36,
       "text": [
        "<IPython.core.display.HTML at 0x17d58ed0>"
       ]
      }
     ],
     "prompt_number": 36
    },
    {
     "cell_type": "code",
     "collapsed": false,
     "input": [
      "%%R\n",
      "ltp = read.table(\"/var/seq_data/LTP115_db/LTPs115_SSU.csv\", sep = \";\", stringsAsFactors = FALSE)\n",
      "names(ltp) = c(\"acc\",\"start\",\"end\",\"DB.version\",\"name\",\"unknown1\",\"family\",\"unknown2\",\"url\",\"full_tax\")\n",
      "head(ltp, 1)"
     ],
     "language": "python",
     "metadata": {},
     "outputs": [
      {
       "metadata": {},
       "output_type": "display_data",
       "text": [
        "           acc start  end DB.version                                     name\n",
        "1 AABF01000111  2354 3854        s93 Fusobacterium nucleatum subsp. vincentii\n",
        "  unknown1           family unknown2                                        url\n",
        "1          Fusobacteriaceae        2 http://www.bacterio.net/fusobacterium.html\n",
        "                                                                            full_tax\n",
        "1 Bacteria;Fusobacteria;Fusobacteriia;Fusobacteriales;Fusobacteriaceae;Fusobacterium\n"
       ]
      }
     ],
     "prompt_number": 50
    },
    {
     "cell_type": "code",
     "collapsed": false,
     "input": [
      "cline = NcbiblastnCommandline(query = \"../data/otusn.fasta\", \n",
      "                              db = \"/var/seq_data/LTP115_db/LTP115\",\n",
      "                              outfmt = 6,\n",
      "                              out = \"../data/tmp/test.m6\",\n",
      "                              num_threads = 20)\n",
      "cline()"
     ],
     "language": "python",
     "metadata": {},
     "outputs": [],
     "prompt_number": 58
    },
    {
     "cell_type": "code",
     "collapsed": false,
     "input": [
      "%%R\n",
      "blast.out = read.table(\"../data/tmp/test.m6\", sep = \"\\t\")\n",
      "names(blast.out) = c(\"OTU\",\n",
      "                     \"acc\",\n",
      "                     \"pid\",\n",
      "                     \"aln.length\",\n",
      "                     \"mismatches\",\n",
      "                     \"gapOpenCount\",\n",
      "                     \"qstart\",\n",
      "                     \"qend\",\n",
      "                     \"sstart\",\n",
      "                     \"send\",\n",
      "                     \"e.value\",\n",
      "                     \"bit.score\")\n",
      "head(blast.out)"
     ],
     "language": "python",
     "metadata": {},
     "outputs": [
      {
       "metadata": {},
       "output_type": "display_data",
       "text": [
        "    OTU      acc   pid aln.length mismatches gapOpenCount qstart qend sstart\n",
        "1 OTU.1   Y18791 90.26        195         18            1      1  195    511\n",
        "2 OTU.1 HM748317 88.78        196         19            3      1  195    531\n",
        "3 OTU.1 AB045960 87.11        194         24            1      2  195    471\n",
        "4 OTU.1 AJ290448 83.77        191         22            9      5  191    565\n",
        "5 OTU.1 AY036001 83.08        195         24            9      1  191    538\n",
        "6 OTU.1 AY336513 83.08        195         24            9      1  191    540\n",
        "  send e.value bit.score\n",
        "1  704   8e-68       254\n",
        "2  724   8e-63       237\n",
        "3  663   3e-57       219\n",
        "4  750   2e-43       172\n",
        "5  727   3e-42       169\n",
        "6  729   3e-42       169\n"
       ]
      }
     ],
     "prompt_number": 61
    },
    {
     "cell_type": "code",
     "collapsed": false,
     "input": [
      "%%R\n",
      "blast.out.topN = subset(blast.out, OTU %in% topN)\n",
      "d = join(blast.out.topN, ltp, by = \"acc\")\n",
      "d = ddply(d, .(OTU), transform, rank = rank(-bit.score, ties.method = \"min\"))\n",
      "t = xtable((subset(d, rank == 1)[,c(\"OTU\",\"acc\",\"pid\",\"name\")]))\n",
      "s = capture.output(print.xtable(t, type = \"html\", include.rownames=FALSE))\n",
      "#print(t, include.rownames=FALSE)"
     ],
     "language": "python",
     "metadata": {},
     "outputs": [],
     "prompt_number": 82
    },
    {
     "cell_type": "code",
     "collapsed": false,
     "input": [
      "%Rpull s\n",
      "HTML(\"\".join(s))"
     ],
     "language": "python",
     "metadata": {},
     "outputs": [
      {
       "html": [
        "<!-- html table generated in R 3.1.0 by xtable 1.7-3 package --><!-- Fri May 30 13:00:15 2014 --><TABLE border=1><TR> <TH> OTU </TH> <TH> acc </TH> <TH> pid </TH> <TH> name </TH>  </TR>  <TR> <TD> OTU.130 </TD> <TD> DQ196623 </TD> <TD align=\"right\"> 94.92 </TD> <TD> Clostridium hydrogeniformans </TD> </TR>  <TR> <TD> OTU.130 </TD> <TD> EU037903 </TD> <TD align=\"right\"> 94.92 </TD> <TD> Clostridium amylolyticum </TD> </TR>  <TR> <TD> OTU.135 </TD> <TD> AY858804 </TD> <TD align=\"right\"> 96.94 </TD> <TD> Clostridium lundense </TD> </TR>  <TR> <TD> OTU.140 </TD> <TD> Z93440 </TD> <TD align=\"right\"> 100.00 </TD> <TD> Acinetobacter johnsonii </TD> </TR>  <TR> <TD> OTU.19 </TD> <TD> FR870445 </TD> <TD align=\"right\"> 100.00 </TD> <TD> Shigella sonnei </TD> </TR>  <TR> <TD> OTU.19 </TD> <TD> X96963 </TD> <TD align=\"right\"> 100.00 </TD> <TD> Shigella flexneri </TD> </TR>  <TR> <TD> OTU.19 </TD> <TD> AF530475 </TD> <TD align=\"right\"> 100.00 </TD> <TD> Escherichia fergusonii </TD> </TR>  <TR> <TD> OTU.19 </TD> <TD> X80725 </TD> <TD align=\"right\"> 100.00 </TD> <TD> Escherichia coli </TD> </TR>  <TR> <TD> OTU.1977 </TD> <TD> DQ196623 </TD> <TD align=\"right\"> 96.45 </TD> <TD> Clostridium hydrogeniformans </TD> </TR>  <TR> <TD> OTU.2391 </TD> <TD> HE604099 </TD> <TD align=\"right\"> 93.85 </TD> <TD> Fonticella tunisiensis </TD> </TR>  <TR> <TD> OTU.264 </TD> <TD> HM037993 </TD> <TD align=\"right\"> 98.48 </TD> <TD> Vitreoscilla filiformis </TD> </TR>  <TR> <TD> OTU.264 </TD> <TD> EU518930 </TD> <TD align=\"right\"> 98.48 </TD> <TD> Ottowia pentelensis </TD> </TR>  <TR> <TD> OTU.264 </TD> <TD> X72724 </TD> <TD align=\"right\"> 98.48 </TD> <TD> Ideonella dechloratans </TD> </TR>  <TR> <TD> OTU.264 </TD> <TD> AB064317 </TD> <TD align=\"right\"> 98.48 </TD> <TD> Diaphorobacter nitroreducens </TD> </TR>  <TR> <TD> OTU.264 </TD> <TD> AF078772 </TD> <TD align=\"right\"> 98.48 </TD> <TD> Comamonas terrigena </TD> </TR>  <TR> <TD> OTU.45 </TD> <TD> X90488 </TD> <TD align=\"right\"> 96.94 </TD> <TD> Caloramator proteoclasticus </TD> </TR>  <TR> <TD> OTU.7 </TD> <TD> JF295055 </TD> <TD align=\"right\"> 99.49 </TD> <TD> Pantoea rwandensis </TD> </TR>  <TR> <TD> OTU.7 </TD> <TD> JF295053 </TD> <TD align=\"right\"> 99.49 </TD> <TD> Pantoea rodasii </TD> </TR>  <TR> <TD> OTU.7 </TD> <TD> AF310217 </TD> <TD align=\"right\"> 99.49 </TD> <TD> Kluyvera intermedia </TD> </TR>  <TR> <TD> OTU.7 </TD> <TD> AF310218 </TD> <TD align=\"right\"> 99.49 </TD> <TD> Kluyvera cryocrescens </TD> </TR>  <TR> <TD> OTU.7 </TD> <TD> AJ783916 </TD> <TD align=\"right\"> 99.49 </TD> <TD> Klebsiella variicola </TD> </TR>  <TR> <TD> OTU.7 </TD> <TD> Y17657 </TD> <TD align=\"right\"> 99.49 </TD> <TD> Klebsiella pneumoniae subsp. rhinoscleromatis </TD> </TR>  <TR> <TD> OTU.7 </TD> <TD> X87276 </TD> <TD align=\"right\"> 99.49 </TD> <TD> Klebsiella pneumoniae subsp. pneumoniae </TD> </TR>  <TR> <TD> OTU.7 </TD> <TD> FN547376 </TD> <TD align=\"right\"> 99.49 </TD> <TD> Erwinia aphidicola </TD> </TR>  <TR> <TD> OTU.7 </TD> <TD> GU814270 </TD> <TD align=\"right\"> 99.49 </TD> <TD> Enterobacter soli </TD> </TR>  <TR> <TD> OTU.7 </TD> <TD> AJ853891 </TD> <TD align=\"right\"> 99.49 </TD> <TD> Enterobacter ludwigii </TD> </TR>  <TR> <TD> OTU.7 </TD> <TD> AJ508301 </TD> <TD align=\"right\"> 99.49 </TD> <TD> Enterobacter kobei </TD> </TR>  <TR> <TD> OTU.7 </TD> <TD> AJ508302 </TD> <TD align=\"right\"> 99.49 </TD> <TD> Enterobacter hormaechei </TD> </TR>  <TR> <TD> OTU.7 </TD> <TD> Z96079 </TD> <TD align=\"right\"> 99.49 </TD> <TD> Enterobacter cloacae subsp. dissolvens </TD> </TR>  <TR> <TD> OTU.7 </TD> <TD> Z96078 </TD> <TD align=\"right\"> 99.49 </TD> <TD> Enterobacter cancerogenus </TD> </TR>  <TR> <TD> OTU.7 </TD> <TD> AB004744 </TD> <TD align=\"right\"> 99.49 </TD> <TD> Enterobacter asburiae </TD> </TR>  <TR> <TD> OTU.7 </TD> <TD> AB004749 </TD> <TD align=\"right\"> 99.49 </TD> <TD> Enterobacter amnigenus </TD> </TR>  <TR> <TD> OTU.7 </TD> <TD> AB004750 </TD> <TD align=\"right\"> 99.49 </TD> <TD> Enterobacter aerogenes </TD> </TR>  <TR> <TD> OTU.7 </TD> <TD> AJ233406 </TD> <TD align=\"right\"> 99.49 </TD> <TD> Buttiauxella warmboldiae </TD> </TR>  <TR> <TD> OTU.7 </TD> <TD> AJ233405 </TD> <TD align=\"right\"> 99.49 </TD> <TD> Buttiauxella noackiae </TD> </TR>  <TR> <TD> OTU.7 </TD> <TD> AJ233404 </TD> <TD align=\"right\"> 99.49 </TD> <TD> Buttiauxella izardii </TD> </TR>  <TR> <TD> OTU.7 </TD> <TD> AJ233400 </TD> <TD align=\"right\"> 99.49 </TD> <TD> Buttiauxella agrestis </TD> </TR>  <TR> <TD> OTU.812 </TD> <TD> Y18813 </TD> <TD align=\"right\"> 95.90 </TD> <TD> Clostridium drakei </TD> </TR>  <TR> <TD> OTU.812 </TD> <TD> FR733710 </TD> <TD align=\"right\"> 95.90 </TD> <TD> Clostridium carboxidivorans </TD> </TR>   </TABLE>"
       ],
       "metadata": {},
       "output_type": "pyout",
       "prompt_number": 83,
       "text": [
        "<IPython.core.display.HTML at 0x17da2350>"
       ]
      }
     ],
     "prompt_number": 83
    }
   ],
   "metadata": {}
  }
 ]
}
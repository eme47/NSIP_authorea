{
 "metadata": {
  "name": "",
  "signature": "sha256:49af3246d043229f87c996f78578b0ebb2bb400dece0dc9a6ef37545cb6082af"
 },
 "nbformat": 3,
 "nbformat_minor": 0,
 "worksheets": [
  {
   "cells": [
    {
     "cell_type": "markdown",
     "metadata": {},
     "source": [
      "####Import R packages and Python modules."
     ]
    },
    {
     "cell_type": "code",
     "collapsed": false,
     "input": [
      "from IPython.display import FileLink"
     ],
     "language": "python",
     "metadata": {},
     "outputs": [],
     "prompt_number": 11
    },
    {
     "cell_type": "code",
     "collapsed": false,
     "input": [
      "%load_ext rmagic"
     ],
     "language": "python",
     "metadata": {},
     "outputs": [
      {
       "output_type": "stream",
       "stream": "stderr",
       "text": [
        "/opt/anaconda/lib/python2.7/site-packages/pytz/__init__.py:29: UserWarning: Module argparse was already imported from /opt/anaconda/lib/python2.7/argparse.pyc, but /opt/anaconda/lib/python2.7/site-packages is being added to sys.path\n",
        "  from pkg_resources import resource_stream\n"
       ]
      }
     ],
     "prompt_number": 1
    },
    {
     "cell_type": "code",
     "collapsed": false,
     "input": [
      "%%R\n",
      "library(DESeq2)\n",
      "library(phyloseq)\n",
      "library(plyr)\n",
      "library(ggplot2)\n",
      "library(foreach)\n",
      "library(RColorBrewer)"
     ],
     "language": "python",
     "metadata": {},
     "outputs": [],
     "prompt_number": 7
    },
    {
     "cell_type": "markdown",
     "metadata": {},
     "source": [
      "####Import OTU table and sample metadata."
     ]
    },
    {
     "cell_type": "code",
     "collapsed": false,
     "input": [
      "%%R\n",
      "physeq = import_biom(\"../data/otu_table_wtax.biom\", \"../data/otusn.tree\")\n",
      "sample.data = import_qiime_sample_data(\"../data/barcode_mapper.txt\")\n",
      "physeq = merge_phyloseq(physeq,sample.data)"
     ],
     "language": "python",
     "metadata": {},
     "outputs": [],
     "prompt_number": 3
    },
    {
     "cell_type": "markdown",
     "metadata": {},
     "source": [
      "####Function to calculate log2 fold change between OTU means in control and label \"heavy\" fractions."
     ]
    },
    {
     "cell_type": "code",
     "collapsed": false,
     "input": [
      "%%R\n",
      "\n",
      "density.min = 1.725\n",
      "\n",
      "get_Ps = function(physeq.obj, l2fc.threshold, day, sparsity.threshold) {\n",
      "    \n",
      "    physeq.md = sample_data(physeq.obj)\n",
      "    p = prune_samples((physeq.md$DayCollected == day)&\n",
      "                      (physeq.md$Density >= density.min), physeq.obj)\n",
      "    p.thresh = filter_taxa(p, function(x) sum(x > 0) > (sparsity.threshold * length(x)), TRUE)\n",
      "    \n",
      "    dds = phyloseq_to_deseq2(p.thresh, ~Treatment)\n",
      "    dds = DESeq(dds, quiet = TRUE, fitType = \"local\")\n",
      "\n",
      "    r = results(dds, independentFiltering = FALSE)\n",
      "    beta = r$log2FoldChange\n",
      "    betaSE = r$lfcSE\n",
      "    p = pnorm(beta, l2fc.threshold, betaSE, lower.tail = FALSE)\n",
      "    r$p = p\n",
      "    DF = data.frame(r[, c(\"log2FoldChange\", \"p\")])\n",
      "        \n",
      "    tax = tax_table(p.thresh)\n",
      "    if (!setequal(row.names(DF), row.names(tax))) {\n",
      "        stop(\"Ordination and supplementary data indices differ on the following:\\n\",\n",
      "        setdiff(row.names(DF), row.names(tax)))\n",
      "    }\n",
      "    DF = data.frame(DF, tax)\n",
      "        \n",
      "    DF$OTU = rownames(DF)\n",
      "    DF$Day = day\n",
      "    DF$sparsity.threshold = as.character(sparsity.threshold)\n",
      "    \n",
      "    DF\n",
      "}                       "
     ],
     "language": "python",
     "metadata": {},
     "outputs": [],
     "prompt_number": 4
    },
    {
     "cell_type": "markdown",
     "metadata": {},
     "source": [
      "####Create dataframe of log2 fold changes and corresponding adjusted p-values at different sparsity thresholds for screening OTUs."
     ]
    },
    {
     "cell_type": "code",
     "collapsed": false,
     "input": [
      "%%R\n",
      "\n",
      "days = c(2,4)\n",
      "l2fc.threshold = 0.25\n",
      "\n",
      "f = function(sparsity.threshold) {\n",
      "    ldply(days, \n",
      "          get_Ps, \n",
      "          physeq.obj = physeq,\n",
      "          l2fc.threshold = l2fc.threshold, \n",
      "          sparsity.threshold = sparsity.threshold)\n",
      "}\n",
      "\n",
      "df.l2fc = ldply(seq(0.25,0.75,0.025), f, .parallel = TRUE)\n",
      "df.l2fc = ddply(df.l2fc, .(sparsity.threshold), transform, p.adj = p.adjust(p, \"BH\"))"
     ],
     "language": "python",
     "metadata": {},
     "outputs": [],
     "prompt_number": 5
    },
    {
     "cell_type": "markdown",
     "metadata": {},
     "source": [
      "####Plot number of OTUs passing the false discovery rate against the sparsity threshold."
     ]
    },
    {
     "cell_type": "code",
     "collapsed": false,
     "input": [
      "%%R -h 350\n",
      "\n",
      "FDR = 0.10\n",
      "\n",
      "d = ddply(df.l2fc, .(sparsity.threshold), summarize, S = sum(p.adj < FDR))\n",
      "\n",
      "p = ggplot(d, aes(x = as.numeric(sparsity.threshold), y = S)) + geom_point(size = 3)\n",
      "\n",
      "p"
     ],
     "language": "python",
     "metadata": {},
     "outputs": [
      {
       "metadata": {},
       "output_type": "display_data",
       "png": "[encoded data removed]"
      }
     ],
     "prompt_number": 6
    },
    {
     "cell_type": "markdown",
     "metadata": {},
     "source": [
      "##Log2 fold change for each OTU categorized by Phylum."
     ]
    },
    {
     "cell_type": "code",
     "collapsed": false,
     "input": [
      "%%R -w 800 -h 325\n",
      "\n",
      "sparsity.thresh.selection = \"0.625\"\n",
      "\n",
      "d = subset(df.l2fc, sparsity.threshold == sparsity.thresh.selection)\n",
      "d$Rank2 = as.character(d$Rank2)\n",
      "d$Rank2 = gsub(\"__\", \"\", d$Rank2)\n",
      "d$Rank2[is.na(d$Rank2)] = \"unclassified\"\n",
      "d$Rank2 = factor(d$Rank2)\n",
      "\n",
      "max.l2fc = ddply(d, .(Rank2), summarize, M = max(log2FoldChange))\n",
      "d$Rank2 = factor(d$Rank2, max.l2fc[order(-max.l2fc$M),]$Rank2)\n",
      "\n",
      "M = max(as.numeric(d$Rank2), na.rm = TRUE) + 1\n",
      "d$x = as.numeric(d$Rank2)\n",
      "d$x[is.na(d$x)] = M\n",
      "d$x.jitter = d$x + runif(length(d$x), -1, 1) * 0.25\n",
      "\n",
      "colourCount = length(unique(d$Rank2)) + 1\n",
      "getPalette = colorRampPalette(brewer.pal(10, \"Dark2\"))\n",
      "phyla = as.character(levels(factor(d$Rank2)))\n",
      "t = parse(text = paste(\"italic(\", phyla, \")\", sep=\"\"))\n",
      "\n",
      "p = ggplot(d, aes(x = x.jitter, y = log2FoldChange, color = Rank2))\n",
      "p = p + facet_wrap(~Day)\n",
      "\n",
      "p = p + geom_point(alpha = 0.65, size = 2.5)\n",
      "\n",
      "p = p + geom_point(data = subset(d, p.adj <= FDR), color = \"black\", shape = 4, size = 2)\n",
      "\n",
      "p = p + scale_color_manual(values = getPalette(colourCount), labels = t)\n",
      "\n",
      "p = p + geom_hline(y = l2fc.threshold)\n",
      "\n",
      "p = p + theme_bw()\n",
      "\n",
      "p = p + theme(axis.text.x = element_blank())\n",
      "\n",
      "p = p + labs(x = \"Phylum\", color = \"Phylum\")\n",
      "\n",
      "p = p + guides(col = guide_legend(ncol = 2, label.hjust = 0))\n",
      "\n",
      "p = p + labs(y = expression(paste(\"\", log[2],\" Fold Change\",sep=\"\")))\n",
      "\n",
      "p"
     ],
     "language": "python",
     "metadata": {},
     "outputs": [
      {
       "metadata": {},
       "output_type": "display_data",
       "png": "[encoded data removed]"
      }
     ],
     "prompt_number": 43
    },
    {
     "cell_type": "code",
     "collapsed": false,
     "input": [
      "%%R\n",
      "ggsave(\"../figs/l2fc.pdf\", p, w = 9.25, h = 3)"
     ],
     "language": "python",
     "metadata": {},
     "outputs": [],
     "prompt_number": 44
    },
    {
     "cell_type": "code",
     "collapsed": false,
     "input": [
      "FileLink(\"../figs/l2fc.pdf\")"
     ],
     "language": "python",
     "metadata": {},
     "outputs": [
      {
       "html": [
        "<a href='../figs/l2fc.pdf' target='_blank'>../figs/l2fc.pdf</a><br>"
       ],
       "metadata": {},
       "output_type": "pyout",
       "prompt_number": 28,
       "text": [
        "/home/chuck/working/soil_crust_N_DNASIP/figs/l2fc.pdf"
       ]
      }
     ],
     "prompt_number": 28
    },
    {
     "cell_type": "code",
     "collapsed": false,
     "input": [
      "%%R\n",
      "write.table(subset(df.l2fc, \n",
      "                   sparsity.threshold == sparsity.thresh.selection), \n",
      "                   \"../data/l2fc_table.csv\", sep = \",\")"
     ],
     "language": "python",
     "metadata": {},
     "outputs": [],
     "prompt_number": 13
    }
   ],
   "metadata": {}
  }
 ]
}